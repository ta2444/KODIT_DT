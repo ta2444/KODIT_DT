{
 "cells": [
  {
   "cell_type": "markdown",
   "id": "163a89ca-f06d-4e2f-b043-f7b1d37085f7",
   "metadata": {},
   "source": [
    "# **02. barplot(막대그래프) 실습**\n",
    "* 문법 관련 공식 문서 : https://seaborn.pydata.org/generated/seaborn.barplot.html"
   ]
  },
  {
   "cell_type": "markdown",
   "id": "15856147-98eb-4fe9-b9a5-c3fbedb37e43",
   "metadata": {},
   "source": [
    "## **PART1. 각종 세팅**"
   ]
  },
  {
   "cell_type": "code",
   "execution_count": 1,
   "id": "ad00d3f0-a711-4c00-b134-9397a56e90f0",
   "metadata": {},
   "outputs": [
    {
     "name": "stdout",
     "output_type": "stream",
     "text": [
      "작업 폴더 주소 :  C:\\HANSSAK\\SecureGate\\Download\\DT_Python 시각화\n"
     ]
    }
   ],
   "source": [
    "# 필요 패키지 호출\n",
    "import matplotlib.pyplot as plt\n",
    "import seaborn as sns\n",
    "import pandas as pd\n",
    "import numpy as np\n",
    "\n",
    "# 실습용 데이터가 저장된 폴더\n",
    "path = r'C:\\HANSSAK\\SecureGate\\Download\\DT_Python 시각화'\n",
    "print('작업 폴더 주소 : ', path)\n",
    "\n",
    "# 출력 옵션 지정\n",
    "pd.set_option('display.width', 2000)                  # 한줄에 표시할 컬럼 관련\n",
    "pd.set_option('display.max_colwidth', None)           # 최대 컬럼너비 (None 지정시 데이터 생략 없음)\n",
    "pd.options.display.float_format = '{:.2f}'.format     # 표시할 숫자 형식 (지수형태 표현에서 소숫점 2자리까지로)\n"
   ]
  },
  {
   "cell_type": "markdown",
   "id": "e973b6c3-2aee-4f67-8c3b-b391897ceaaa",
   "metadata": {},
   "source": [
    "## **PART2. 데이터 로드**"
   ]
  },
  {
   "cell_type": "code",
   "execution_count": 3,
   "id": "4111ac86-42d5-4f4b-a947-447c37cf95bd",
   "metadata": {},
   "outputs": [
    {
     "name": "stdout",
     "output_type": "stream",
     "text": [
      "<class 'pandas.core.frame.DataFrame'>\n",
      "RangeIndex: 21233 entries, 0 to 21232\n",
      "Data columns (total 6 columns):\n",
      " #   Column       Non-Null Count  Dtype \n",
      "---  ------       --------------  ----- \n",
      " 0   연도           21233 non-null  object\n",
      " 1   고객번호         21233 non-null  int64 \n",
      " 2   개인법인사업자구분명   21233 non-null  object\n",
      " 3   보증잔액         21233 non-null  int64 \n",
      " 4   통합통계거래상대처은행  21233 non-null  object\n",
      " 5   신용등급         21233 non-null  object\n",
      "dtypes: int64(2), object(4)\n",
      "memory usage: 995.4+ KB\n"
     ]
    },
    {
     "data": {
      "text/html": [
       "<div>\n",
       "<style scoped>\n",
       "    .dataframe tbody tr th:only-of-type {\n",
       "        vertical-align: middle;\n",
       "    }\n",
       "\n",
       "    .dataframe tbody tr th {\n",
       "        vertical-align: top;\n",
       "    }\n",
       "\n",
       "    .dataframe thead th {\n",
       "        text-align: right;\n",
       "    }\n",
       "</style>\n",
       "<table border=\"1\" class=\"dataframe\">\n",
       "  <thead>\n",
       "    <tr style=\"text-align: right;\">\n",
       "      <th></th>\n",
       "      <th>고객번호</th>\n",
       "      <th>보증잔액</th>\n",
       "    </tr>\n",
       "  </thead>\n",
       "  <tbody>\n",
       "    <tr>\n",
       "      <th>count</th>\n",
       "      <td>21233.00</td>\n",
       "      <td>21233.00</td>\n",
       "    </tr>\n",
       "    <tr>\n",
       "      <th>mean</th>\n",
       "      <td>55012266.55</td>\n",
       "      <td>176694372.37</td>\n",
       "    </tr>\n",
       "    <tr>\n",
       "      <th>std</th>\n",
       "      <td>25921700.45</td>\n",
       "      <td>296667357.52</td>\n",
       "    </tr>\n",
       "    <tr>\n",
       "      <th>min</th>\n",
       "      <td>10022592.00</td>\n",
       "      <td>600000.00</td>\n",
       "    </tr>\n",
       "    <tr>\n",
       "      <th>25%</th>\n",
       "      <td>32555869.00</td>\n",
       "      <td>50000000.00</td>\n",
       "    </tr>\n",
       "    <tr>\n",
       "      <th>50%</th>\n",
       "      <td>55111954.00</td>\n",
       "      <td>100000000.00</td>\n",
       "    </tr>\n",
       "    <tr>\n",
       "      <th>75%</th>\n",
       "      <td>77487097.00</td>\n",
       "      <td>205600000.00</td>\n",
       "    </tr>\n",
       "    <tr>\n",
       "      <th>max</th>\n",
       "      <td>99992437.00</td>\n",
       "      <td>10000000000.00</td>\n",
       "    </tr>\n",
       "  </tbody>\n",
       "</table>\n",
       "</div>"
      ],
      "text/plain": [
       "             고객번호           보증잔액\n",
       "count    21233.00       21233.00\n",
       "mean  55012266.55   176694372.37\n",
       "std   25921700.45   296667357.52\n",
       "min   10022592.00      600000.00\n",
       "25%   32555869.00    50000000.00\n",
       "50%   55111954.00   100000000.00\n",
       "75%   77487097.00   205600000.00\n",
       "max   99992437.00 10000000000.00"
      ]
     },
     "execution_count": 3,
     "metadata": {},
     "output_type": "execute_result"
    }
   ],
   "source": [
    "# 데이터 로드 및 정보 / 요약통계량 확인\n",
    "df = pd.read_csv(path + r'\\janamt_by_grade.csv', encoding = 'cp949')\n",
    "df.info()\n",
    "df.describe()"
   ]
  },
  {
   "cell_type": "code",
   "execution_count": 4,
   "id": "c80e016c-a1b0-44d8-aa69-3af13f5a4e95",
   "metadata": {},
   "outputs": [
    {
     "data": {
      "text/html": [
       "<div>\n",
       "<style scoped>\n",
       "    .dataframe tbody tr th:only-of-type {\n",
       "        vertical-align: middle;\n",
       "    }\n",
       "\n",
       "    .dataframe tbody tr th {\n",
       "        vertical-align: top;\n",
       "    }\n",
       "\n",
       "    .dataframe thead th {\n",
       "        text-align: right;\n",
       "    }\n",
       "</style>\n",
       "<table border=\"1\" class=\"dataframe\">\n",
       "  <thead>\n",
       "    <tr style=\"text-align: right;\">\n",
       "      <th></th>\n",
       "      <th>연도</th>\n",
       "      <th>고객번호</th>\n",
       "      <th>개인법인사업자구분명</th>\n",
       "      <th>보증잔액</th>\n",
       "      <th>통합통계거래상대처은행</th>\n",
       "      <th>신용등급</th>\n",
       "    </tr>\n",
       "  </thead>\n",
       "  <tbody>\n",
       "    <tr>\n",
       "      <th>0</th>\n",
       "      <td>2018-12-31</td>\n",
       "      <td>47580842</td>\n",
       "      <td>개인사업자</td>\n",
       "      <td>40000000</td>\n",
       "      <td>중소기업은행</td>\n",
       "      <td>KR10</td>\n",
       "    </tr>\n",
       "    <tr>\n",
       "      <th>1</th>\n",
       "      <td>2018-12-31</td>\n",
       "      <td>62820638</td>\n",
       "      <td>개인사업자</td>\n",
       "      <td>72000000</td>\n",
       "      <td>농업협동조합</td>\n",
       "      <td>KR11</td>\n",
       "    </tr>\n",
       "    <tr>\n",
       "      <th>2</th>\n",
       "      <td>2018-12-31</td>\n",
       "      <td>46775714</td>\n",
       "      <td>법인사업자</td>\n",
       "      <td>29580000</td>\n",
       "      <td>우리은행</td>\n",
       "      <td>KR14</td>\n",
       "    </tr>\n",
       "    <tr>\n",
       "      <th>3</th>\n",
       "      <td>2018-12-31</td>\n",
       "      <td>19831749</td>\n",
       "      <td>개인사업자</td>\n",
       "      <td>50000000</td>\n",
       "      <td>신한은행</td>\n",
       "      <td>KR08</td>\n",
       "    </tr>\n",
       "    <tr>\n",
       "      <th>4</th>\n",
       "      <td>2018-12-31</td>\n",
       "      <td>33966188</td>\n",
       "      <td>개인사업자</td>\n",
       "      <td>30000000</td>\n",
       "      <td>대구은행</td>\n",
       "      <td>KR14</td>\n",
       "    </tr>\n",
       "  </tbody>\n",
       "</table>\n",
       "</div>"
      ],
      "text/plain": [
       "           연도      고객번호 개인법인사업자구분명      보증잔액 통합통계거래상대처은행  신용등급\n",
       "0  2018-12-31  47580842      개인사업자  40000000      중소기업은행  KR10\n",
       "1  2018-12-31  62820638      개인사업자  72000000      농업협동조합  KR11\n",
       "2  2018-12-31  46775714      법인사업자  29580000        우리은행  KR14\n",
       "3  2018-12-31  19831749      개인사업자  50000000        신한은행  KR08\n",
       "4  2018-12-31  33966188      개인사업자  30000000        대구은행  KR14"
      ]
     },
     "execution_count": 4,
     "metadata": {},
     "output_type": "execute_result"
    }
   ],
   "source": [
    "# 상위 5개 관측치 확인\n",
    "df.head(5)"
   ]
  },
  {
   "cell_type": "markdown",
   "id": "b488a8e6-8724-432f-b402-b5b528814271",
   "metadata": {},
   "source": [
    "## **PART3. 데이터 집계** - 연도별 보증잔액 추이"
   ]
  },
  {
   "cell_type": "code",
   "execution_count": 5,
   "id": "df1ac5d8-ac27-4152-8661-e541e010cec6",
   "metadata": {},
   "outputs": [
    {
     "data": {
      "text/html": [
       "<div>\n",
       "<style scoped>\n",
       "    .dataframe tbody tr th:only-of-type {\n",
       "        vertical-align: middle;\n",
       "    }\n",
       "\n",
       "    .dataframe tbody tr th {\n",
       "        vertical-align: top;\n",
       "    }\n",
       "\n",
       "    .dataframe thead th {\n",
       "        text-align: right;\n",
       "    }\n",
       "</style>\n",
       "<table border=\"1\" class=\"dataframe\">\n",
       "  <thead>\n",
       "    <tr style=\"text-align: right;\">\n",
       "      <th></th>\n",
       "      <th>보증잔액</th>\n",
       "    </tr>\n",
       "    <tr>\n",
       "      <th>연도</th>\n",
       "      <th></th>\n",
       "    </tr>\n",
       "  </thead>\n",
       "  <tbody>\n",
       "    <tr>\n",
       "      <th>2018-12-31</th>\n",
       "      <td>6538.27</td>\n",
       "    </tr>\n",
       "    <tr>\n",
       "      <th>2019-12-31</th>\n",
       "      <td>6730.54</td>\n",
       "    </tr>\n",
       "    <tr>\n",
       "      <th>2020-12-31</th>\n",
       "      <td>7760.40</td>\n",
       "    </tr>\n",
       "    <tr>\n",
       "      <th>2021-12-31</th>\n",
       "      <td>8194.23</td>\n",
       "    </tr>\n",
       "    <tr>\n",
       "      <th>2022-12-31</th>\n",
       "      <td>8294.08</td>\n",
       "    </tr>\n",
       "  </tbody>\n",
       "</table>\n",
       "</div>"
      ],
      "text/plain": [
       "              보증잔액\n",
       "연도                \n",
       "2018-12-31 6538.27\n",
       "2019-12-31 6730.54\n",
       "2020-12-31 7760.40\n",
       "2021-12-31 8194.23\n",
       "2022-12-31 8294.08"
      ]
     },
     "execution_count": 5,
     "metadata": {},
     "output_type": "execute_result"
    }
   ],
   "source": [
    "df_agg = pd.pivot_table(data = df, index = '연도', aggfunc = {'보증잔액' : 'sum'})\n",
    "df_agg['보증잔액']  = df_agg['보증잔액'] / 100000000\n",
    "df_agg"
   ]
  },
  {
   "cell_type": "markdown",
   "id": "44adcf86-5a50-44b2-a1cc-254c0248b252",
   "metadata": {},
   "source": [
    "## **PART4. 그래프 생성**"
   ]
  },
  {
   "cell_type": "code",
   "execution_count": 7,
   "id": "4de43aca-9d59-460f-aecf-dad643ff44c6",
   "metadata": {},
   "outputs": [],
   "source": [
    "# Seaborn 스타일 설정\n",
    "sns.set_style('whitegrid')\n",
    "\n",
    "# 한글폰트 관련 패치\n",
    "plt.rcParams['font.family'] ='Malgun Gothic'\n",
    "plt.rcParams['axes.unicode_minus'] =False"
   ]
  },
  {
   "cell_type": "code",
   "execution_count": 10,
   "id": "4b34f141-1f36-46b5-bc33-709a23562aab",
   "metadata": {},
   "outputs": [
    {
     "data": {
      "text/plain": [
       "Text(0.0, 1.0, '연도별 보증잔액 (단위 : 억원)')"
      ]
     },
     "execution_count": 10,
     "metadata": {},
     "output_type": "execute_result"
    },
    {
     "data": {
      "image/png": "[encoded data removed]",
      "text/plain": [
       "<Figure size 800x500 with 1 Axes>"
      ]
     },
     "metadata": {},
     "output_type": "display_data"
    }
   ],
   "source": [
    "# 도화지 / 좌표계 / 그래프 객체 생성\n",
    "fig = plt.figure(figsize = [8, 5])\n",
    "plot = sns.barplot(data = df_agg, x = '연도', y = '보증잔액', hue = '연도', palette='Set3', width = 0.4)\n",
    "plt.title(\"연도별 보증잔액 (단위 : 억원)\", fontweight = \"bold\", fontsize = 15, loc = 'left')"
   ]
  },
  {
   "cell_type": "markdown",
   "id": "3982f899-a423-4964-a19f-0b5e160652d0",
   "metadata": {},
   "source": [
    "## **PART5. 데이터 집계** - 코로나19 전후 신용등급별 보증잔액 추이"
   ]
  },
  {
   "cell_type": "code",
   "execution_count": 11,
   "id": "a3b2a24e-cc3e-4e30-af2f-6ba39d36f272",
   "metadata": {},
   "outputs": [
    {
     "data": {
      "text/html": [
       "<div>\n",
       "<style scoped>\n",
       "    .dataframe tbody tr th:only-of-type {\n",
       "        vertical-align: middle;\n",
       "    }\n",
       "\n",
       "    .dataframe tbody tr th {\n",
       "        vertical-align: top;\n",
       "    }\n",
       "\n",
       "    .dataframe thead th {\n",
       "        text-align: right;\n",
       "    }\n",
       "</style>\n",
       "<table border=\"1\" class=\"dataframe\">\n",
       "  <thead>\n",
       "    <tr style=\"text-align: right;\">\n",
       "      <th></th>\n",
       "      <th>신용등급</th>\n",
       "      <th>연도</th>\n",
       "      <th>보증잔액</th>\n",
       "    </tr>\n",
       "  </thead>\n",
       "  <tbody>\n",
       "    <tr>\n",
       "      <th>0</th>\n",
       "      <td>KR01</td>\n",
       "      <td>2018-12-31</td>\n",
       "      <td>9.45</td>\n",
       "    </tr>\n",
       "    <tr>\n",
       "      <th>1</th>\n",
       "      <td>KR01</td>\n",
       "      <td>2019-12-31</td>\n",
       "      <td>0.41</td>\n",
       "    </tr>\n",
       "    <tr>\n",
       "      <th>2</th>\n",
       "      <td>KR01</td>\n",
       "      <td>2020-12-31</td>\n",
       "      <td>2.60</td>\n",
       "    </tr>\n",
       "    <tr>\n",
       "      <th>3</th>\n",
       "      <td>KR01</td>\n",
       "      <td>2021-12-31</td>\n",
       "      <td>5.82</td>\n",
       "    </tr>\n",
       "    <tr>\n",
       "      <th>4</th>\n",
       "      <td>KR01</td>\n",
       "      <td>2022-12-31</td>\n",
       "      <td>2.75</td>\n",
       "    </tr>\n",
       "    <tr>\n",
       "      <th>...</th>\n",
       "      <td>...</td>\n",
       "      <td>...</td>\n",
       "      <td>...</td>\n",
       "    </tr>\n",
       "    <tr>\n",
       "      <th>75</th>\n",
       "      <td>기타</td>\n",
       "      <td>2018-12-31</td>\n",
       "      <td>5.00</td>\n",
       "    </tr>\n",
       "    <tr>\n",
       "      <th>76</th>\n",
       "      <td>기타</td>\n",
       "      <td>2019-12-31</td>\n",
       "      <td>3.16</td>\n",
       "    </tr>\n",
       "    <tr>\n",
       "      <th>77</th>\n",
       "      <td>기타</td>\n",
       "      <td>2020-12-31</td>\n",
       "      <td>2.36</td>\n",
       "    </tr>\n",
       "    <tr>\n",
       "      <th>78</th>\n",
       "      <td>기타</td>\n",
       "      <td>2021-12-31</td>\n",
       "      <td>1.93</td>\n",
       "    </tr>\n",
       "    <tr>\n",
       "      <th>79</th>\n",
       "      <td>기타</td>\n",
       "      <td>2022-12-31</td>\n",
       "      <td>2.67</td>\n",
       "    </tr>\n",
       "  </tbody>\n",
       "</table>\n",
       "<p>80 rows × 3 columns</p>\n",
       "</div>"
      ],
      "text/plain": [
       "    신용등급          연도  보증잔액\n",
       "0   KR01  2018-12-31  9.45\n",
       "1   KR01  2019-12-31  0.41\n",
       "2   KR01  2020-12-31  2.60\n",
       "3   KR01  2021-12-31  5.82\n",
       "4   KR01  2022-12-31  2.75\n",
       "..   ...         ...   ...\n",
       "75    기타  2018-12-31  5.00\n",
       "76    기타  2019-12-31  3.16\n",
       "77    기타  2020-12-31  2.36\n",
       "78    기타  2021-12-31  1.93\n",
       "79    기타  2022-12-31  2.67\n",
       "\n",
       "[80 rows x 3 columns]"
      ]
     },
     "execution_count": 11,
     "metadata": {},
     "output_type": "execute_result"
    }
   ],
   "source": [
    "df_agg = pd.pivot_table(data = df, index = ['신용등급', '연도'], values = '보증잔액', aggfunc = 'sum').reset_index(drop = False)\n",
    "df_agg.sort_values(by = ['신용등급', '연도'], inplace = True)\n",
    "df_agg['보증잔액'] = df_agg['보증잔액'] / 100000000\n",
    "df_agg"
   ]
  },
  {
   "cell_type": "markdown",
   "id": "22c2f70f-d429-4a93-b6e9-2510f49d8f69",
   "metadata": {},
   "source": [
    "## **PART6. 그래프 생성**"
   ]
  },
  {
   "cell_type": "code",
   "execution_count": 12,
   "id": "378eb4b2-585d-4b64-ab63-c6bcdcd41cab",
   "metadata": {},
   "outputs": [
    {
     "data": {
      "image/png": "[encoded data removed]",
      "text/plain": [
       "<Figure size 1000x500 with 1 Axes>"
      ]
     },
     "metadata": {},
     "output_type": "display_data"
    }
   ],
   "source": [
    "fig = plt.figure(figsize = [10, 5])\n",
    "sns.barplot(data = df_agg[df_agg['연도'].isin(['2018-12-31', '2022-12-31'])], \n",
    "            x = '신용등급', y = '보증잔액', hue = '연도', palette='muted')\n",
    "plt.show()"
   ]
  }
 ],
 "metadata": {
  "kernelspec": {
   "display_name": "Python 3 (ipykernel)",
   "language": "python",
   "name": "python3"
  },
  "language_info": {
   "codemirror_mode": {
    "name": "ipython",
    "version": 3
   },
   "file_extension": ".py",
   "mimetype": "text/x-python",
   "name": "python",
   "nbconvert_exporter": "python",
   "pygments_lexer": "ipython3",
   "version": "3.9.13"
  }
 },
 "nbformat": 4,
 "nbformat_minor": 5
}
